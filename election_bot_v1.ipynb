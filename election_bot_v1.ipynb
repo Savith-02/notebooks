{
  "nbformat": 4,
  "nbformat_minor": 0,
  "metadata": {
    "colab": {
      "provenance": [],
      "authorship_tag": "ABX9TyN9IF4eYSiXdWofVdXNeD6l",
      "include_colab_link": true
    },
    "kernelspec": {
      "name": "python3",
      "display_name": "Python 3"
    },
    "language_info": {
      "name": "python"
    }
  },
  "cells": [
    {
      "cell_type": "markdown",
      "metadata": {
        "id": "view-in-github",
        "colab_type": "text"
      },
      "source": [
        "<a href=\"https://colab.research.google.com/github/Savith-02/notebooks/blob/main/election_bot_v1.ipynb\" target=\"_parent\"><img src=\"https://colab.research.google.com/assets/colab-badge.svg\" alt=\"Open In Colab\"/></a>"
      ]
    },
    {
      "cell_type": "code",
      "source": [
        "from sklearn.feature_extraction.text import TfidfVectorizer\n",
        "from sklearn.metrics.pairwise import cosine_similarity\n",
        "import json\n",
        "\n",
        "# Load FAQ data\n",
        "with open('faq_data.json', 'r') as f:\n",
        "    faq_data = json.load(f)\n",
        "\n",
        "# Extract FAQ questions for TF-IDF processing\n",
        "faq_questions = [faq['question'] for faq in faq_data['faqs']]"
      ],
      "metadata": {
        "id": "cBUB--S1DWOY"
      },
      "execution_count": 1,
      "outputs": []
    },
    {
      "cell_type": "code",
      "source": [
        "# Function to get the best-matching FAQ using TF-IDF\n",
        "def get_best_faq_answer(user_query):\n",
        "    # Add the user's query to the list of FAQ questions\n",
        "    questions = [user_query] + faq_questions\n",
        "\n",
        "    # Vectorize the questions using TF-IDF\n",
        "    vectorizer = TfidfVectorizer().fit_transform(questions)\n",
        "    vectors = vectorizer.toarray()\n",
        "\n",
        "    # Compute cosine similarity between the user query and each FAQ question\n",
        "    cosine_similarities = cosine_similarity(vectors[0:1], vectors[1:])\n",
        "\n",
        "    # Find the index of the most similar question\n",
        "    best_match_index = cosine_similarities.argmax()\n",
        "\n",
        "    # Get the answer for the best-matching question\n",
        "    best_match_answer = faq_data['faqs'][best_match_index]['answer']\n",
        "\n",
        "    return best_match_answer"
      ],
      "metadata": {
        "id": "EfgGY7q3DY_2"
      },
      "execution_count": 2,
      "outputs": []
    },
    {
      "cell_type": "code",
      "execution_count": 4,
      "metadata": {
        "colab": {
          "base_uri": "https://localhost:8080/"
        },
        "id": "Rej3u_RMC_mI",
        "outputId": "f07fdef3-5b9b-4a60-9792-32300834a6d0"
      },
      "outputs": [
        {
          "output_type": "stream",
          "name": "stdout",
          "text": [
            "Question: election on?\n",
            "Answer: The election will be held on November 5th, 2024.\n"
          ]
        }
      ],
      "source": [
        "# Example test\n",
        "user_query = \"election on?\"\n",
        "answer = get_best_faq_answer(user_query)\n",
        "print(f\"Question: {user_query}\\nAnswer: {answer}\")\n"
      ]
    },
    {
      "cell_type": "code",
      "source": [
        "!pip install python-Levenshtein"
      ],
      "metadata": {
        "id": "nQC5ruJIJ1_-"
      },
      "execution_count": null,
      "outputs": []
    },
    {
      "cell_type": "code",
      "source": [
        "import json\n",
        "from sklearn.feature_extraction.text import TfidfVectorizer\n",
        "from sklearn.metrics.pairwise import cosine_similarity\n",
        "from Levenshtein import distance as levenshtein_distance"
      ],
      "metadata": {
        "colab": {
          "base_uri": "https://localhost:8080/"
        },
        "id": "v9uh6inhJhDp",
        "outputId": "14ac9232-aac0-45fc-89f6-9a43dd7af911"
      },
      "execution_count": 6,
      "outputs": [
        {
          "output_type": "stream",
          "name": "stdout",
          "text": [
            "Collecting python-Levenshtein\n",
            "  Downloading python_Levenshtein-0.25.1-py3-none-any.whl.metadata (3.7 kB)\n",
            "Collecting Levenshtein==0.25.1 (from python-Levenshtein)\n",
            "  Downloading Levenshtein-0.25.1-cp310-cp310-manylinux_2_17_x86_64.manylinux2014_x86_64.whl.metadata (3.3 kB)\n",
            "Collecting rapidfuzz<4.0.0,>=3.8.0 (from Levenshtein==0.25.1->python-Levenshtein)\n",
            "  Downloading rapidfuzz-3.9.7-cp310-cp310-manylinux_2_17_x86_64.manylinux2014_x86_64.whl.metadata (12 kB)\n",
            "Downloading python_Levenshtein-0.25.1-py3-none-any.whl (9.4 kB)\n",
            "Downloading Levenshtein-0.25.1-cp310-cp310-manylinux_2_17_x86_64.manylinux2014_x86_64.whl (177 kB)\n",
            "\u001b[2K   \u001b[90m━━━━━━━━━━━━━━━━━━━━━━━━━━━━━━━━━━━━━━━━\u001b[0m \u001b[32m177.4/177.4 kB\u001b[0m \u001b[31m9.7 MB/s\u001b[0m eta \u001b[36m0:00:00\u001b[0m\n",
            "\u001b[?25hDownloading rapidfuzz-3.9.7-cp310-cp310-manylinux_2_17_x86_64.manylinux2014_x86_64.whl (3.4 MB)\n",
            "\u001b[2K   \u001b[90m━━━━━━━━━━━━━━━━━━━━━━━━━━━━━━━━━━━━━━━━\u001b[0m \u001b[32m3.4/3.4 MB\u001b[0m \u001b[31m28.4 MB/s\u001b[0m eta \u001b[36m0:00:00\u001b[0m\n",
            "\u001b[?25hInstalling collected packages: rapidfuzz, Levenshtein, python-Levenshtein\n",
            "Successfully installed Levenshtein-0.25.1 python-Levenshtein-0.25.1 rapidfuzz-3.9.7\n"
          ]
        }
      ]
    },
    {
      "cell_type": "code",
      "source": [
        "# === Data Loading ===\n",
        "def load_data(file_path):\n",
        "    with open(file_path, 'r') as file:\n",
        "        return json.load(file)\n",
        "\n",
        "faq_data = load_data('faq_data.json')\n",
        "manifesto_data = load_data('manifesto_data.json')\n",
        "\n",
        "# List of candidates for easy reference\n",
        "candidates = list(manifesto_data['candidates'].keys())\n",
        "\n",
        "# === FAQ Query Handling ===\n",
        "faq_questions = [faq['question'] for faq in faq_data['faqs']]\n",
        "\n",
        "def get_best_faq_answer(user_query):\n",
        "    \"\"\"Finds the best FAQ match using TF-IDF and cosine similarity.\"\"\"\n",
        "    questions = [user_query] + faq_questions\n",
        "    vectorizer = TfidfVectorizer().fit_transform(questions)\n",
        "    vectors = vectorizer.toarray()\n",
        "    cosine_similarities = cosine_similarity(vectors[0:1], vectors[1:])\n",
        "    best_match_index = cosine_similarities.argmax()\n",
        "    return faq_data['faqs'][best_match_index]['answer']\n",
        "\n",
        "# === Manifesto Query Handling ===\n",
        "def get_manifesto_answer(candidate, topic):\n",
        "    \"\"\"Fetches the manifesto answer based on candidate and topic.\"\"\"\n",
        "    candidate_manifesto = manifesto_data['candidates'].get(candidate, {})\n",
        "    return candidate_manifesto.get(topic, \"No information available on this topic.\")\n",
        "\n",
        "# === Fuzzy Matching (Typos and Incomplete Names) ===\n",
        "def fuzzy_match(query, candidates, threshold=2):\n",
        "    \"\"\"Performs fuzzy matching to handle typos in candidate names.\"\"\"\n",
        "    for candidate in candidates:\n",
        "        if levenshtein_distance(candidate.lower(), query.lower()) <= threshold:\n",
        "            return candidate\n",
        "    return None\n",
        "\n",
        "# === Edge Case: Detect Non-Relevant Queries ===\n",
        "def detect_non_relevant_query(user_query):\n",
        "    \"\"\"Detects off-topic queries.\"\"\"\n",
        "    off_topic_keywords = [\"weather\", \"movie\", \"song\", \"sports\", \"news\"]\n",
        "    for word in off_topic_keywords:\n",
        "        if word in user_query.lower():\n",
        "            return True\n",
        "    return False\n",
        "\n",
        "# === Edge Case: Handle Multiple Candidates/Topics ===\n",
        "def handle_multiple_entities(user_query):\n",
        "    \"\"\"Handles cases where multiple candidates or topics are mentioned.\"\"\"\n",
        "    if \"and\" in user_query:\n",
        "        sub_queries = user_query.split(\"and\")\n",
        "        responses = [handle_user_query(sub_query.strip()) for sub_query in sub_queries]\n",
        "        return \" \".join(responses)\n",
        "    return None\n",
        "\n",
        "# === Edge Case: Handle Vague Queries ===\n",
        "def handle_vague_queries(user_query):\n",
        "    \"\"\"Handles queries that are too short or lack context.\"\"\"\n",
        "    if len(user_query.split()) < 3:\n",
        "        return \"Can you provide more details? Are you asking about a candidate's stance or general election info?\"\n",
        "    return None\n",
        "\n",
        "# === Edge Case: Handle Overlapping or Missing Data ===\n",
        "def handle_missing_data(candidate, topic):\n",
        "    \"\"\"Handles cases where candidate or topic data is missing.\"\"\"\n",
        "    if candidate not in manifesto_data['candidates']:\n",
        "        return f\"Sorry, I don't have information on {candidate}.\"\n",
        "    if topic not in manifesto_data['candidates'][candidate]:\n",
        "        return f\"Sorry, I don't have {candidate}'s stance on {topic}.\"\n",
        "    return None\n",
        "\n",
        "# === Main Function to Handle User Queries ===\n",
        "def handle_user_query(user_query):\n",
        "    \"\"\"The main function to process user queries.\"\"\"\n",
        "    # Check for off-topic queries\n",
        "    if detect_non_relevant_query(user_query):\n",
        "        return \"I'm only trained to answer election-related questions. Can I help with something else?\"\n",
        "\n",
        "    # Handle multiple queries in one statement (e.g., multiple candidates)\n",
        "    multi_entity_response = handle_multiple_entities(user_query)\n",
        "    if multi_entity_response:\n",
        "        return multi_entity_response\n",
        "\n",
        "    # Handle vague or incomplete queries\n",
        "    vague_query_response = handle_vague_queries(user_query)\n",
        "    if vague_query_response:\n",
        "        return vague_query_response\n",
        "\n",
        "    # Check if the query is related to a candidate's manifesto (by name)\n",
        "    for candidate in candidates:\n",
        "        if candidate.lower() in user_query.lower():\n",
        "            if \"healthcare\" in user_query.lower():\n",
        "                return get_manifesto_answer(candidate, \"healthcare\")\n",
        "            elif \"education\" in user_query.lower():\n",
        "                return get_manifesto_answer(candidate, \"education\")\n",
        "            else:\n",
        "                return handle_missing_data(candidate, user_query.lower())\n",
        "\n",
        "    # Try fuzzy matching for candidate names (in case of typos)\n",
        "    candidate = fuzzy_match(user_query, candidates)\n",
        "    if candidate:\n",
        "        return f\"Did you mean {candidate}? Please ask again with more details.\"\n",
        "\n",
        "    # If no candidate is detected, treat it as an FAQ query\n",
        "    return get_best_faq_answer(user_query)"
      ],
      "metadata": {
        "id": "nOAwfUyqJ55Y"
      },
      "execution_count": 7,
      "outputs": []
    },
    {
      "cell_type": "code",
      "source": [
        "# === Example Usage ===\n",
        "if __name__ == \"__main__\":\n",
        "    # Testing FAQ\n",
        "    print(handle_user_query(\"election on\"))\n",
        "    print(handle_user_query(\"I wanna vote!\"))\n",
        "\n",
        "    # Testing manifesto queries\n",
        "    # What is John Doe's stance on healthcare?\n",
        "    print(handle_user_query(\"John cares about health?\"))\n",
        "    # Jane Smith's stance on education\n",
        "    print(handle_user_query(\"Jane Smith on education?\"))\n",
        "\n",
        "    # Testing fuzzy matching (typo handling)\n",
        "    # What is Jonh Doe's stance on healthcare?\n",
        "    print(handle_user_query(\" Jonh Doe's stance on healtcare?\"))\n",
        "\n",
        "    # Testing multiple queries\n",
        "    print(handle_user_query(\"What is John Doe's stance on healthcare and Jane Smith's stance on education?\"))\n",
        "\n",
        "    # Testing vague query\n",
        "    print(handle_user_query(\"healthcare\"))\n",
        "\n",
        "    # Testing non-relevant query\n",
        "    print(handle_user_query(\"What's the weather today?\"))\n"
      ],
      "metadata": {
        "colab": {
          "base_uri": "https://localhost:8080/"
        },
        "id": "VEIEFMW8DbOy",
        "outputId": "ece194b3-1c78-41d0-fe85-b683476bf0b7"
      },
      "execution_count": 9,
      "outputs": [
        {
          "output_type": "stream",
          "name": "stdout",
          "text": [
            "Can you provide more details? Are you asking about a candidate's stance or general election info?\n",
            "You can register to vote by visiting the official government website before the registration deadline.\n",
            "John Doe supports universal healthcare and plans to expand coverage to all citizens.\n",
            "Jane Smith plans to increase funding for vocational training programs.\n",
            "John Doe supports universal healthcare and plans to expand coverage to all citizens.\n",
            "John Doe supports universal healthcare and plans to expand coverage to all citizens. Jane Smith plans to increase funding for vocational training programs.\n",
            "Can you provide more details? Are you asking about a candidate's stance or general election info?\n",
            "I'm only trained to answer election-related questions. Can I help with something else?\n"
          ]
        }
      ]
    },
    {
      "cell_type": "markdown",
      "source": [
        "Edge Cases Covered:\n",
        "\n",
        "Ambiguous Queries: Vague or incomplete queries are handled, asking the user for clarification.\n",
        "\n",
        "Missing Data: If a candidate or topic is missing from the manifesto, the bot responds accordingly.\n",
        "\n",
        "Typos: Fuzzy matching handles misspelled candidate names.\n",
        "\n",
        "Multiple Queries: Handles cases with multiple candidates/topics in one query.\n",
        "\n",
        "Non-Election Queries: Detects off-topic questions and responds accordingly.\n",
        "\n",
        "Overlapping Candidate Names: Detects ambiguous or incomplete candidate names and asks for clarification.\n"
      ],
      "metadata": {
        "id": "G1SREOmLWKI7"
      }
    },
    {
      "cell_type": "code",
      "source": [],
      "metadata": {
        "id": "suIUqbtqWDvX"
      },
      "execution_count": null,
      "outputs": []
    }
  ]
}