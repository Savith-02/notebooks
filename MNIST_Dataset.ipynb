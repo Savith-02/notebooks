{
  "nbformat": 4,
  "nbformat_minor": 0,
  "metadata": {
    "colab": {
      "provenance": [],
      "authorship_tag": "ABX9TyM0k8zBvOUmfUb5lou9re3l",
      "include_colab_link": true
    },
    "kernelspec": {
      "name": "python3",
      "display_name": "Python 3"
    },
    "language_info": {
      "name": "python"
    }
  },
  "cells": [
    {
      "cell_type": "markdown",
      "metadata": {
        "id": "view-in-github",
        "colab_type": "text"
      },
      "source": [
        "<a href=\"https://colab.research.google.com/github/Savith-02/notebooks/blob/main/MNIST_Dataset.ipynb\" target=\"_parent\"><img src=\"https://colab.research.google.com/assets/colab-badge.svg\" alt=\"Open In Colab\"/></a>"
      ]
    },
    {
      "cell_type": "code",
      "source": [
        "import torch\n",
        "import torch.nn as nn\n",
        "import torch.optim as optim\n",
        "from torchvision import datasets, transforms\n",
        "from torch.utils.data import DataLoader, Subset, random_split\n",
        "import matplotlib.pyplot as plt\n",
        "import numpy as np\n"
      ],
      "metadata": {
        "id": "vmy54wH8dAXP"
      },
      "execution_count": 1,
      "outputs": []
    },
    {
      "cell_type": "code",
      "source": [
        "# Define the neural network (same as before)\n",
        "class Net(nn.Module):\n",
        "    def __init__(self):\n",
        "        super(Net, self).__init__()\n",
        "        self.fc1 = nn.Linear(28 * 28, 128)\n",
        "        self.fc2 = nn.Linear(128, 64)\n",
        "        self.fc3 = nn.Linear(64, 10)\n",
        "\n",
        "    def forward(self, x):\n",
        "        x = x.view(-1, 28 * 28)\n",
        "        x = torch.relu(self.fc1(x))\n",
        "        x = torch.relu(self.fc2(x))\n",
        "        return self.fc3(x)\n",
        "\n",
        "# Set device\n",
        "device = torch.device(\"cuda\" if torch.cuda.is_available() else \"cpu\")\n"
      ],
      "metadata": {
        "id": "_75MjwOUdEA2"
      },
      "execution_count": 2,
      "outputs": []
    },
    {
      "cell_type": "code",
      "source": [
        "# Load and preprocess the data\n",
        "transform = transforms.Compose([\n",
        "    transforms.ToTensor(),\n",
        "    transforms.Normalize((0.1307,), (0.3081,))\n",
        "])\n",
        "\n",
        "full_dataset = datasets.MNIST(root='./data', train=True, download=True, transform=transform)\n",
        "\n",
        "# Select only 100 images\n",
        "indices = torch.randperm(len(full_dataset))[:100]\n",
        "dataset = Subset(full_dataset, indices)"
      ],
      "metadata": {
        "colab": {
          "base_uri": "https://localhost:8080/"
        },
        "id": "2R6TxlXZdIXx",
        "outputId": "b231a01d-e9de-4e7c-b5fc-f83b9ae69edf"
      },
      "execution_count": 3,
      "outputs": [
        {
          "output_type": "stream",
          "name": "stdout",
          "text": [
            "Downloading http://yann.lecun.com/exdb/mnist/train-images-idx3-ubyte.gz\n",
            "Failed to download (trying next):\n",
            "HTTP Error 403: Forbidden\n",
            "\n",
            "Downloading https://ossci-datasets.s3.amazonaws.com/mnist/train-images-idx3-ubyte.gz\n",
            "Downloading https://ossci-datasets.s3.amazonaws.com/mnist/train-images-idx3-ubyte.gz to ./data/MNIST/raw/train-images-idx3-ubyte.gz\n"
          ]
        },
        {
          "output_type": "stream",
          "name": "stderr",
          "text": [
            "100%|██████████| 9912422/9912422 [00:02<00:00, 4250009.69it/s]\n"
          ]
        },
        {
          "output_type": "stream",
          "name": "stdout",
          "text": [
            "Extracting ./data/MNIST/raw/train-images-idx3-ubyte.gz to ./data/MNIST/raw\n",
            "\n",
            "Downloading http://yann.lecun.com/exdb/mnist/train-labels-idx1-ubyte.gz\n",
            "Failed to download (trying next):\n",
            "HTTP Error 403: Forbidden\n",
            "\n",
            "Downloading https://ossci-datasets.s3.amazonaws.com/mnist/train-labels-idx1-ubyte.gz\n",
            "Downloading https://ossci-datasets.s3.amazonaws.com/mnist/train-labels-idx1-ubyte.gz to ./data/MNIST/raw/train-labels-idx1-ubyte.gz\n"
          ]
        },
        {
          "output_type": "stream",
          "name": "stderr",
          "text": [
            "100%|██████████| 28881/28881 [00:00<00:00, 1229292.31it/s]\n"
          ]
        },
        {
          "output_type": "stream",
          "name": "stdout",
          "text": [
            "Extracting ./data/MNIST/raw/train-labels-idx1-ubyte.gz to ./data/MNIST/raw\n",
            "\n",
            "Downloading http://yann.lecun.com/exdb/mnist/t10k-images-idx3-ubyte.gz\n",
            "Failed to download (trying next):\n",
            "HTTP Error 403: Forbidden\n",
            "\n",
            "Downloading https://ossci-datasets.s3.amazonaws.com/mnist/t10k-images-idx3-ubyte.gz\n",
            "Downloading https://ossci-datasets.s3.amazonaws.com/mnist/t10k-images-idx3-ubyte.gz to ./data/MNIST/raw/t10k-images-idx3-ubyte.gz\n"
          ]
        },
        {
          "output_type": "stream",
          "name": "stderr",
          "text": [
            "100%|██████████| 1648877/1648877 [00:00<00:00, 8224802.99it/s]\n"
          ]
        },
        {
          "output_type": "stream",
          "name": "stdout",
          "text": [
            "Extracting ./data/MNIST/raw/t10k-images-idx3-ubyte.gz to ./data/MNIST/raw\n",
            "\n",
            "Downloading http://yann.lecun.com/exdb/mnist/t10k-labels-idx1-ubyte.gz\n",
            "Failed to download (trying next):\n",
            "HTTP Error 403: Forbidden\n",
            "\n",
            "Downloading https://ossci-datasets.s3.amazonaws.com/mnist/t10k-labels-idx1-ubyte.gz\n",
            "Downloading https://ossci-datasets.s3.amazonaws.com/mnist/t10k-labels-idx1-ubyte.gz to ./data/MNIST/raw/t10k-labels-idx1-ubyte.gz\n"
          ]
        },
        {
          "output_type": "stream",
          "name": "stderr",
          "text": [
            "100%|██████████| 4542/4542 [00:00<00:00, 5333294.73it/s]\n"
          ]
        },
        {
          "output_type": "stream",
          "name": "stdout",
          "text": [
            "Extracting ./data/MNIST/raw/t10k-labels-idx1-ubyte.gz to ./data/MNIST/raw\n",
            "\n"
          ]
        }
      ]
    },
    {
      "cell_type": "code",
      "source": [
        "# Split into train and validation sets\n",
        "train_size = 80\n",
        "val_size = 20\n",
        "train_dataset, val_dataset = random_split(dataset, [train_size, val_size])\n",
        "\n",
        "train_loader = DataLoader(train_dataset, batch_size=10, shuffle=True)\n",
        "val_loader = DataLoader(val_dataset, batch_size=10, shuffle=False)\n"
      ],
      "metadata": {
        "id": "YqFYgBXzdLjT"
      },
      "execution_count": 4,
      "outputs": []
    },
    {
      "cell_type": "code",
      "source": [
        "# Plot some sample images\n",
        "fig, axes = plt.subplots(2, 5, figsize=(12, 6))\n",
        "for i, (img, label) in enumerate(train_dataset):\n",
        "    if i >= 10:  # We'll show the first 10 images\n",
        "        break\n",
        "    ax = axes[i//5, i%5]\n",
        "    ax.imshow(img.squeeze().numpy(), cmap='gray')\n",
        "    ax.set_title(f'Label: {label}')\n",
        "    ax.axis('off')\n",
        "plt.tight_layout()\n",
        "plt.savefig('sample_images.png')\n",
        "plt.close()\n"
      ],
      "metadata": {
        "id": "F2EwaqEIdOL_"
      },
      "execution_count": 5,
      "outputs": []
    },
    {
      "cell_type": "code",
      "source": [
        "# Initialize the model, loss function, and optimizer\n",
        "model = Net().to(device)\n",
        "criterion = nn.CrossEntropyLoss()\n",
        "optimizer = optim.Adam(model.parameters())\n"
      ],
      "metadata": {
        "id": "GLrbEFFrdRrL"
      },
      "execution_count": 6,
      "outputs": []
    },
    {
      "cell_type": "code",
      "source": [
        "# Training loop\n",
        "num_epochs = 50\n",
        "train_losses = []\n",
        "val_losses = []\n",
        "\n",
        "for epoch in range(num_epochs):\n",
        "    model.train()\n",
        "    train_loss = 0\n",
        "    for batch_idx, (data, target) in enumerate(train_loader):\n",
        "        data, target = data.to(device), target.to(device)\n",
        "        optimizer.zero_grad()\n",
        "        output = model(data)\n",
        "        loss = criterion(output, target)\n",
        "        loss.backward()\n",
        "        optimizer.step()\n",
        "        train_loss += loss.item()\n",
        "    train_loss /= len(train_loader)\n",
        "    train_losses.append(train_loss)\n",
        "\n",
        "    model.eval()\n",
        "    val_loss = 0\n",
        "    with torch.no_grad():\n",
        "        for data, target in val_loader:\n",
        "            data, target = data.to(device), target.to(device)\n",
        "            output = model(data)\n",
        "            val_loss += criterion(output, target).item()\n",
        "    val_loss /= len(val_loader)\n",
        "    val_losses.append(val_loss)\n",
        "\n",
        "    print(f'Epoch {epoch+1}/{num_epochs}, Train Loss: {train_loss:.4f}, Val Loss: {val_loss:.4f}')\n"
      ],
      "metadata": {
        "colab": {
          "base_uri": "https://localhost:8080/"
        },
        "id": "pgqgALqUdW8Q",
        "outputId": "f73e6910-58b9-4d0e-8709-935de37435c7"
      },
      "execution_count": 7,
      "outputs": [
        {
          "output_type": "stream",
          "name": "stdout",
          "text": [
            "Epoch 1/50, Train Loss: 2.1442, Val Loss: 2.1171\n",
            "Epoch 2/50, Train Loss: 1.6430, Val Loss: 1.7940\n",
            "Epoch 3/50, Train Loss: 1.1841, Val Loss: 1.5473\n",
            "Epoch 4/50, Train Loss: 0.8348, Val Loss: 1.2075\n",
            "Epoch 5/50, Train Loss: 0.6254, Val Loss: 1.0402\n",
            "Epoch 6/50, Train Loss: 0.3895, Val Loss: 0.8851\n",
            "Epoch 7/50, Train Loss: 0.2897, Val Loss: 0.7549\n",
            "Epoch 8/50, Train Loss: 0.1989, Val Loss: 0.5992\n",
            "Epoch 9/50, Train Loss: 0.1258, Val Loss: 0.5425\n",
            "Epoch 10/50, Train Loss: 0.1003, Val Loss: 0.5659\n",
            "Epoch 11/50, Train Loss: 0.0680, Val Loss: 0.4930\n",
            "Epoch 12/50, Train Loss: 0.0548, Val Loss: 0.4708\n",
            "Epoch 13/50, Train Loss: 0.0342, Val Loss: 0.4645\n",
            "Epoch 14/50, Train Loss: 0.0287, Val Loss: 0.4576\n",
            "Epoch 15/50, Train Loss: 0.0236, Val Loss: 0.4834\n",
            "Epoch 16/50, Train Loss: 0.0190, Val Loss: 0.4639\n",
            "Epoch 17/50, Train Loss: 0.0154, Val Loss: 0.4495\n",
            "Epoch 18/50, Train Loss: 0.0135, Val Loss: 0.4448\n",
            "Epoch 19/50, Train Loss: 0.0117, Val Loss: 0.4507\n",
            "Epoch 20/50, Train Loss: 0.0104, Val Loss: 0.4608\n",
            "Epoch 21/50, Train Loss: 0.0093, Val Loss: 0.4617\n",
            "Epoch 22/50, Train Loss: 0.0083, Val Loss: 0.4669\n",
            "Epoch 23/50, Train Loss: 0.0076, Val Loss: 0.4506\n",
            "Epoch 24/50, Train Loss: 0.0068, Val Loss: 0.4506\n",
            "Epoch 25/50, Train Loss: 0.0064, Val Loss: 0.4359\n",
            "Epoch 26/50, Train Loss: 0.0059, Val Loss: 0.4664\n",
            "Epoch 27/50, Train Loss: 0.0053, Val Loss: 0.4662\n",
            "Epoch 28/50, Train Loss: 0.0049, Val Loss: 0.4612\n",
            "Epoch 29/50, Train Loss: 0.0045, Val Loss: 0.4534\n",
            "Epoch 30/50, Train Loss: 0.0042, Val Loss: 0.4542\n",
            "Epoch 31/50, Train Loss: 0.0039, Val Loss: 0.4571\n",
            "Epoch 32/50, Train Loss: 0.0037, Val Loss: 0.4503\n",
            "Epoch 33/50, Train Loss: 0.0035, Val Loss: 0.4664\n",
            "Epoch 34/50, Train Loss: 0.0032, Val Loss: 0.4617\n",
            "Epoch 35/50, Train Loss: 0.0030, Val Loss: 0.4546\n",
            "Epoch 36/50, Train Loss: 0.0029, Val Loss: 0.4593\n",
            "Epoch 37/50, Train Loss: 0.0027, Val Loss: 0.4715\n",
            "Epoch 38/50, Train Loss: 0.0025, Val Loss: 0.4650\n",
            "Epoch 39/50, Train Loss: 0.0024, Val Loss: 0.4644\n",
            "Epoch 40/50, Train Loss: 0.0023, Val Loss: 0.4652\n",
            "Epoch 41/50, Train Loss: 0.0022, Val Loss: 0.4652\n",
            "Epoch 42/50, Train Loss: 0.0021, Val Loss: 0.4623\n",
            "Epoch 43/50, Train Loss: 0.0020, Val Loss: 0.4654\n",
            "Epoch 44/50, Train Loss: 0.0019, Val Loss: 0.4651\n",
            "Epoch 45/50, Train Loss: 0.0018, Val Loss: 0.4694\n",
            "Epoch 46/50, Train Loss: 0.0017, Val Loss: 0.4665\n",
            "Epoch 47/50, Train Loss: 0.0017, Val Loss: 0.4662\n",
            "Epoch 48/50, Train Loss: 0.0016, Val Loss: 0.4719\n",
            "Epoch 49/50, Train Loss: 0.0015, Val Loss: 0.4744\n",
            "Epoch 50/50, Train Loss: 0.0015, Val Loss: 0.4760\n"
          ]
        }
      ]
    },
    {
      "cell_type": "code",
      "source": [
        "# Plot loss curves\n",
        "plt.figure(figsize=(10, 6))\n",
        "plt.plot(range(1, num_epochs+1), train_losses, label='Train Loss')\n",
        "plt.plot(range(1, num_epochs+1), val_losses, label='Validation Loss')\n",
        "plt.xlabel('Epoch')\n",
        "plt.ylabel('Loss')\n",
        "plt.title('Training and Validation Loss')\n",
        "plt.legend()\n",
        "plt.show()\n",
        "plt.close()\n"
      ],
      "metadata": {
        "colab": {
          "base_uri": "https://localhost:8080/",
          "height": 564
        },
        "id": "0vjVB9L1djfy",
        "outputId": "6fee6371-dd7a-4c7a-e4cb-09780b40fd1a"
      },
      "execution_count": 10,
      "outputs": [
        {
          "output_type": "display_data",
          "data": {
            "text/plain": [
              "<Figure size 1000x600 with 1 Axes>"
            ],
            "image/png": "[encoded data removed]"
          },
          "metadata": {}
        }
      ]
    },
    {
      "cell_type": "code",
      "execution_count": 8,
      "metadata": {
        "colab": {
          "base_uri": "https://localhost:8080/"
        },
        "id": "5qNfGUsYc26v",
        "outputId": "842a04c6-427a-4b04-aca4-5bcb92de9a2e"
      },
      "outputs": [
        {
          "output_type": "stream",
          "name": "stdout",
          "text": [
            "Accuracy on the validation set: 80.00%\n",
            "Model saved as 'mnist_model.pth'\n",
            "Sample images saved as 'sample_images.png'\n",
            "Loss curves saved as 'loss_curves.png'\n"
          ]
        }
      ],
      "source": [
        "# Test the model\n",
        "model.eval()\n",
        "correct = 0\n",
        "total = 0\n",
        "with torch.no_grad():\n",
        "    for data, target in val_loader:\n",
        "        data, target = data.to(device), target.to(device)\n",
        "        outputs = model(data)\n",
        "        _, predicted = torch.max(outputs.data, 1)\n",
        "        total += target.size(0)\n",
        "        correct += (predicted == target).sum().item()\n",
        "\n",
        "print(f'Accuracy on the validation set: {100 * correct / total:.2f}%')\n",
        "\n",
        "# Save the model\n",
        "# torch.save(model.state_dict(), 'mnist_model.pth')\n",
        "print(\"Model saved as 'mnist_model.pth'\")\n",
        "print(\"Sample images saved as 'sample_images.png'\")\n",
        "print(\"Loss curves saved as 'loss_curves.png'\")"
      ]
    },
    {
      "cell_type": "code",
      "source": [],
      "metadata": {
        "id": "rZ0wAnYdda3V"
      },
      "execution_count": null,
      "outputs": []
    }
  ]
}